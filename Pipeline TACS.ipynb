{
 "cells": [
  {
   "cell_type": "markdown",
   "metadata": {},
   "source": [
    "# Pipeline for BIAPT lab EEG Preprocessing: \n",
    "#### inspired by: https://github.com/hoechenberger/pybrain_mne/\n",
    "#### adapted by: Charlotte Maschke\n",
    "#### This pipeline uses MNE Python to preprocess EEG data: Plese go here: \n",
    "####                                https://mne.tools/stable/overview/index.html\n",
    "####  for more documentation on MNE Python"
   ]
  },
  {
   "cell_type": "markdown",
   "metadata": {},
   "source": [
    "## Some setup and import"
   ]
  },
  {
   "cell_type": "code",
   "execution_count": 18,
   "metadata": {},
   "outputs": [],
   "source": [
    "import matplotlib\n",
    "import mne_bids\n",
    "import pathlib\n",
    "import mne\n",
    "import os\n",
    "\n",
    "# Ensure Matplotlib uses the Qt5Agg backend, \n",
    "# which is the best choice for MNE-Python's \n",
    "# interactive plotting functions.\n",
    "matplotlib.use('Qt5Agg')\n",
    "\n",
    "import matplotlib.pyplot as plt"
   ]
  },
  {
   "cell_type": "markdown",
   "metadata": {},
   "source": [
    "### Which subject do you want to preprocess? "
   ]
  },
  {
   "cell_type": "code",
   "execution_count": 2,
   "metadata": {},
   "outputs": [],
   "source": [
    "ID = \"TACS01\"\n",
    "session = \"01\"\n",
    "task = \"pre\"\n",
    "BIDS_dir = \"../BIDS_testdata/\""
   ]
  },
  {
   "cell_type": "code",
   "execution_count": 3,
   "metadata": {},
   "outputs": [
    {
     "data": {
      "text/plain": [
       "'../BIDS_testdata//source/sub-TACS01/ses-01/eeg/sub-TACS01_ses-01_task-pre_eeg.mff'"
      ]
     },
     "execution_count": 3,
     "metadata": {},
     "output_type": "execute_result"
    }
   ],
   "source": [
    "raw_path = \"{}/source/sub-{}/ses-{}/eeg/sub-{}_ses-{}_task-{}_eeg.mff\".format(BIDS_dir,ID,session,ID,session,task)\n",
    "raw_path"
   ]
  },
  {
   "cell_type": "markdown",
   "metadata": {},
   "source": [
    "## Load the raw data!"
   ]
  },
  {
   "cell_type": "code",
   "execution_count": 4,
   "metadata": {},
   "outputs": [
    {
     "name": "stdout",
     "output_type": "stream",
     "text": [
      "Reading EGI MFF Header from /Users/daphneebrazeau/Documents/Université/Labo TCC/EEG - Soins intensifs/Code/EEG_Preprocessing/BIDS_testdata/source/sub-TACS01/ses-01/eeg/sub-TACS01_ses-01_task-pre_eeg.mff...\n",
      "    Reading events ...\n",
      "    Assembling measurement info ...\n"
     ]
    },
    {
     "data": {
      "text/html": [
       "\n",
       "\n",
       "<table class=\"table table-hover\">\n",
       "    <tr>\n",
       "        <th>Measurement date</th>\n",
       "        <td>août 01, 2021  20:16:24 GMT</td>\n",
       "        \n",
       "    </tr>\n",
       "    <tr>\n",
       "        <th>Experimenter</th>\n",
       "<td>Unknown</td>\n",
       "    </tr>\n",
       "        <th>Participant</th>\n",
       "<td>Unknown</td>\n",
       "    </tr>\n",
       "    <tr>\n",
       "        <th>Digitized points</th>\n",
       "        <td>133 points</td>\n",
       "    </tr>\n",
       "    <tr>\n",
       "        <th>Good channels</th>\n",
       "        <td>0 magnetometer, 0 gradiometer,\n",
       "            and 129 EEG channels</td>\n",
       "    </tr>\n",
       "    <tr>\n",
       "        <th>Bad channels</th>\n",
       "        <td></td>\n",
       "        \n",
       "    </tr>\n",
       "    <tr>\n",
       "        <th>EOG channels</th>\n",
       "        <td>Not available</td>\n",
       "    </tr>\n",
       "    <tr>\n",
       "        <th>ECG channels</th>\n",
       "        <td>Not available</td>\n",
       "    <tr>\n",
       "        <th>Sampling frequency</th>\n",
       "        <td>1000.00 Hz</td>\n",
       "    </tr>\n",
       "    <tr>\n",
       "        <th>Highpass</th>\n",
       "        <td>0.00 Hz</td>\n",
       "    </tr>\n",
       "     <tr>\n",
       "        <th>Lowpass</th>\n",
       "        <td>500.00 Hz</td>\n",
       "    </tr>\n",
       "\n",
       "    <tr>\n",
       "        <th>Filenames</th>\n",
       "        <td>signal1.bin</td>\n",
       "    </tr>\n",
       "    <tr>\n",
       "        <th>Duration</th>\n",
       "        <td>00:05:22 (HH:MM:SS)</td>\n",
       "    </tr>\n",
       "</table>\n"
      ],
      "text/plain": [
       "<RawMff | signal1.bin, 129 x 322142 (322.1 s), ~178 kB, data not loaded>"
      ]
     },
     "execution_count": 4,
     "metadata": {},
     "output_type": "execute_result"
    }
   ],
   "source": [
    "raw = mne.io.read_raw_egi(raw_path)\n",
    "raw"
   ]
  },
  {
   "cell_type": "markdown",
   "metadata": {},
   "source": [
    "## Crop the data"
   ]
  },
  {
   "cell_type": "markdown",
   "metadata": {},
   "source": [
    "For the crop, this is here to facilitate the demo, but in general we mostly select the time of interest manually. For example we started recording to stop sedation bur waited 10 min for the nurse. In this case we would crop.\n",
    "If you do not need the crop or stop, just comment it out or delete the cell in your branch"
   ]
  },
  {
   "cell_type": "markdown",
   "metadata": {},
   "source": [
    "crop on 2 ends:  .crop(tmin = 000 , tmax = 000)  \n",
    "crop beginning:  .crop(tmin = 100 )  \n",
    "crop end only :  .crop(tmax = 100)\n",
    "\n",
    "#### the values here are in seconds ! "
   ]
  },
  {
   "cell_type": "code",
   "execution_count": 5,
   "metadata": {},
   "outputs": [
    {
     "name": "stdout",
     "output_type": "stream",
     "text": [
      "Length of Signal in min: \n"
     ]
    },
    {
     "data": {
      "text/plain": [
       "5.369016666666667"
      ]
     },
     "execution_count": 5,
     "metadata": {},
     "output_type": "execute_result"
    }
   ],
   "source": [
    "# show the duration of your signal\n",
    "print(\"Length of Signal in min: \")\n",
    "raw.times[-1]/60"
   ]
  },
  {
   "cell_type": "code",
   "execution_count": 6,
   "metadata": {},
   "outputs": [],
   "source": [
    "# this can be used to transform minutes to seconds\n",
    "#ms_min = 1  * 60 \n",
    "#ms_max = 3  * 60"
   ]
  },
  {
   "cell_type": "code",
   "execution_count": 7,
   "metadata": {},
   "outputs": [],
   "source": [
    "# input here your minimal and maximal time you want to keep \n",
    "#raw_cropped = raw.copy().crop(tmin = ms_min)\n",
    "#raw_cropped = raw.copy().crop(tmin = ms_min, tmax = ms_max)"
   ]
  },
  {
   "cell_type": "markdown",
   "metadata": {},
   "source": [
    "### Keep only the EEG"
   ]
  },
  {
   "cell_type": "code",
   "execution_count": 8,
   "metadata": {},
   "outputs": [
    {
     "name": "stdout",
     "output_type": "stream",
     "text": [
      "Number of channels in EEG:\n"
     ]
    },
    {
     "data": {
      "text/plain": [
       "129"
      ]
     },
     "execution_count": 8,
     "metadata": {},
     "output_type": "execute_result"
    }
   ],
   "source": [
    "# this is to load EEG. If you want to load other stuff please refer to the website documetation\n",
    "#eeg_cropped = raw_cropped.pick_types(eeg = True)\n",
    "eeg = raw.pick_types(eeg = True)\n",
    "print('Number of channels in EEG:')\n",
    "#len(eeg_cropped.ch_names)\n",
    "len(eeg.ch_names)"
   ]
  },
  {
   "cell_type": "markdown",
   "metadata": {},
   "source": [
    "## Filter the data"
   ]
  },
  {
   "cell_type": "code",
   "execution_count": 9,
   "metadata": {},
   "outputs": [
    {
     "name": "stdout",
     "output_type": "stream",
     "text": [
      "Reading 0 ... 322141  =      0.000 ...   322.141 secs...\n",
      "Filtering raw data in 1 contiguous segment\n",
      "Setting up band-pass filter from 0.1 - 55 Hz\n",
      "\n",
      "FIR filter parameters\n",
      "---------------------\n",
      "Designing a one-pass, zero-phase, non-causal bandpass filter:\n",
      "- Windowed time-domain design (firwin) method\n",
      "- Hamming window with 0.0194 passband ripple and 53 dB stopband attenuation\n",
      "- Lower passband edge: 0.10\n",
      "- Lower transition bandwidth: 0.10 Hz (-6 dB cutoff frequency: 0.05 Hz)\n",
      "- Upper passband edge: 55.00 Hz\n",
      "- Upper transition bandwidth: 13.75 Hz (-6 dB cutoff frequency: 61.88 Hz)\n",
      "- Filter length: 33001 samples (33.001 sec)\n",
      "\n",
      "Setting up band-stop filter from 59 - 61 Hz\n",
      "\n",
      "FIR filter parameters\n",
      "---------------------\n",
      "Designing a one-pass, zero-phase, non-causal bandstop filter:\n",
      "- Windowed time-domain design (firwin) method\n",
      "- Hamming window with 0.0194 passband ripple and 53 dB stopband attenuation\n",
      "- Lower passband edge: 59.35\n",
      "- Lower transition bandwidth: 0.50 Hz (-6 dB cutoff frequency: 59.10 Hz)\n",
      "- Upper passband edge: 60.65 Hz\n",
      "- Upper transition bandwidth: 0.50 Hz (-6 dB cutoff frequency: 60.90 Hz)\n",
      "- Filter length: 6601 samples (6.601 sec)\n",
      "\n"
     ]
    }
   ],
   "source": [
    "# load actual data into system (before it was only metadata)\n",
    "#eeg_cropped.load_data()\n",
    "eeg.load_data()\n",
    "\n",
    "# filter the data between 0.1 to 55 Hz\n",
    "#eeg_cropped_filtered = eeg_cropped.filter(l_freq=0.1, h_freq = 55)\n",
    "eeg_filtered = eeg.filter(l_freq=0.1, h_freq = 55)\n",
    "\n",
    "# notch filter the data between 0.1 to 55 Hz\n",
    "#eeg_filtered = eeg_cropped_filtered.copy().notch_filter(freqs=60)\n",
    "eeg_filtered = eeg_filtered.copy().notch_filter(freqs=60)"
   ]
  },
  {
   "cell_type": "markdown",
   "metadata": {},
   "source": [
    "## Mark channels as bad"
   ]
  },
  {
   "cell_type": "code",
   "execution_count": 10,
   "metadata": {
    "scrolled": false
   },
   "outputs": [
    {
     "data": {
      "text/plain": [
       "<MNEBrowseFigure size 2632x1554 with 4 Axes>"
      ]
     },
     "execution_count": 10,
     "metadata": {},
     "output_type": "execute_result"
    }
   ],
   "source": [
    "eeg_filtered.plot(n_channels=129)\n"
   ]
  },
  {
   "cell_type": "code",
   "execution_count": 11,
   "metadata": {},
   "outputs": [],
   "source": [
    "#STOP"
   ]
  },
  {
   "cell_type": "markdown",
   "metadata": {},
   "source": [
    "Mark an additional EEG channel as bad and view the topoplot."
   ]
  },
  {
   "cell_type": "code",
   "execution_count": 12,
   "metadata": {},
   "outputs": [
    {
     "data": {
      "text/plain": [
       "[]"
      ]
     },
     "execution_count": 12,
     "metadata": {},
     "output_type": "execute_result"
    }
   ],
   "source": [
    "eeg_filtered.info['bads']"
   ]
  },
  {
   "cell_type": "markdown",
   "metadata": {},
   "source": [
    "### Average Reference the data"
   ]
  },
  {
   "cell_type": "code",
   "execution_count": 13,
   "metadata": {},
   "outputs": [
    {
     "name": "stdout",
     "output_type": "stream",
     "text": [
      "EEG channel type selected for re-referencing\n",
      "Applying average reference.\n",
      "Applying a custom EEG reference.\n",
      "Channels marked as bad: none\n"
     ]
    }
   ],
   "source": [
    "# use the average of all channels as reference\n",
    "eeg_avg_ref = eeg_filtered.copy().set_eeg_reference(ref_channels='average')\n",
    "#eeg_avg_ref.plot()"
   ]
  },
  {
   "cell_type": "markdown",
   "metadata": {},
   "source": [
    "### Remove Non-Brain Electrodes"
   ]
  },
  {
   "cell_type": "code",
   "execution_count": 14,
   "metadata": {},
   "outputs": [],
   "source": [
    "non_brain_el = ['E127', 'E126', 'E17', 'E21', 'E14', 'E25', 'E8', 'E128', 'E125', 'E43', 'E120', 'E48', \n",
    "                'E119', 'E49', 'E113', 'E81', 'E73', 'E88', 'E68', 'E94', 'E63', 'E99', 'E56', 'E107' ]\n",
    "\n",
    "#only add non-brain channels if not already part of noisy channels\n",
    "for e in non_brain_el: \n",
    "    if e not in eeg_avg_ref.info['bads']:\n",
    "        eeg_avg_ref.info['bads'].append(e)\n",
    "\n",
    "#eeg_avg_ref.info['bads']\n",
    "eeg_brainonly= eeg_avg_ref.copy()"
   ]
  },
  {
   "cell_type": "markdown",
   "metadata": {},
   "source": [
    "## Let's visualize the PSD"
   ]
  },
  {
   "cell_type": "code",
   "execution_count": 16,
   "metadata": {
    "scrolled": true
   },
   "outputs": [
    {
     "name": "stdout",
     "output_type": "stream",
     "text": [
      "Effective window size : 2.048 (s)\n"
     ]
    }
   ],
   "source": [
    "fig = eeg_brainonly.plot_psd(fmax = 30)\n",
    "#fig = eeg_brainonly.plot_psd(fmin=8,fmax = 12,picks=['E72']) #to plot the peak for one electrode only\n",
    "fig.savefig('{}_{}_{}_PSD.jpg'.format(ID,session,task))"
   ]
  },
  {
   "cell_type": "markdown",
   "metadata": {},
   "source": [
    "### Save image with removed channels"
   ]
  },
  {
   "cell_type": "code",
   "execution_count": 17,
   "metadata": {},
   "outputs": [],
   "source": [
    "eeg_brainonly.plot_sensors(ch_type='eeg')\n",
    "plt.savefig('{}_{}_{}_badchannels.jpg'.format(ID,session,task))\n",
    "plt.close()"
   ]
  },
  {
   "cell_type": "markdown",
   "metadata": {},
   "source": [
    "\n",
    "### Save the data in BIDS format"
   ]
  },
  {
   "cell_type": "code",
   "execution_count": 19,
   "metadata": {},
   "outputs": [],
   "source": [
    "out_dir = pathlib.Path(BIDS_dir,\"sub-{}/ses-{}/eeg/\".format(ID,session))\n",
    "\n",
    "if not os.path.exists(out_dir):\n",
    "    os.makedirs(out_dir)\n",
    "    \n",
    "out_path = pathlib.Path(out_dir, \"sub-{}_ses-{}_task-{}.fif\".format(ID,session,task))"
   ]
  },
  {
   "cell_type": "code",
   "execution_count": 20,
   "metadata": {},
   "outputs": [
    {
     "name": "stdout",
     "output_type": "stream",
     "text": [
      "Writing /Users/daphneebrazeau/Documents/Université/Labo TCC/EEG - Soins intensifs/Code/EEG_Preprocessing/BIDS_testdata/sub-TACS01/ses-01/eeg/sub-TACS01_ses-01_task-pre.fif\n"
     ]
    },
    {
     "name": "stderr",
     "output_type": "stream",
     "text": [
      "/var/folders/hq/2_qlrs5941n7mqt94skwmr9w0000gn/T/ipykernel_53779/1603656629.py:1: RuntimeWarning: This filename (/Users/daphneebrazeau/Documents/Université/Labo TCC/EEG - Soins intensifs/Code/EEG_Preprocessing/BIDS_testdata/sub-TACS01/ses-01/eeg/sub-TACS01_ses-01_task-pre.fif) does not conform to MNE naming conventions. All raw files should end with raw.fif, raw_sss.fif, raw_tsss.fif, _meg.fif, _eeg.fif, _ieeg.fif, raw.fif.gz, raw_sss.fif.gz, raw_tsss.fif.gz, _meg.fif.gz, _eeg.fif.gz or _ieeg.fif.gz\n",
      "  eeg_brainonly.save(out_path,overwrite=True)\n"
     ]
    },
    {
     "name": "stdout",
     "output_type": "stream",
     "text": [
      "Closing /Users/daphneebrazeau/Documents/Université/Labo TCC/EEG - Soins intensifs/Code/EEG_Preprocessing/BIDS_testdata/sub-TACS01/ses-01/eeg/sub-TACS01_ses-01_task-pre.fif\n",
      "[done]\n"
     ]
    }
   ],
   "source": [
    "eeg_brainonly.save(out_path,overwrite=True)"
   ]
  },
  {
   "cell_type": "markdown",
   "metadata": {},
   "source": [
    "# Epoch the data and remove noisy epochs"
   ]
  },
  {
   "cell_type": "code",
   "execution_count": 21,
   "metadata": {},
   "outputs": [
    {
     "name": "stdout",
     "output_type": "stream",
     "text": [
      "Not setting metadata\n",
      "Not setting metadata\n",
      "32 matching events found\n",
      "No baseline correction applied\n",
      "0 projection items activated\n"
     ]
    }
   ],
   "source": [
    "epochs = mne.make_fixed_length_epochs(eeg_brainonly, duration = 10,overlap=0, preload=False)"
   ]
  },
  {
   "cell_type": "code",
   "execution_count": 22,
   "metadata": {},
   "outputs": [
    {
     "name": "stdout",
     "output_type": "stream",
     "text": [
      "Loading data for 32 events and 10000 original time points ...\n",
      "0 bad epochs dropped\n",
      "Loading data for 9 events and 10000 original time points ...\n",
      "Loading data for 20 events and 10000 original time points ...\n"
     ]
    },
    {
     "data": {
      "text/plain": [
       "<MNEBrowseFigure size 2632x1554 with 4 Axes>"
      ]
     },
     "execution_count": 22,
     "metadata": {},
     "output_type": "execute_result"
    },
    {
     "name": "stdout",
     "output_type": "stream",
     "text": [
      "Loading data for 20 events and 10000 original time points ...\n",
      "Loading data for 20 events and 10000 original time points ...\n",
      "Loading data for 20 events and 10000 original time points ...\n",
      "Loading data for 20 events and 10000 original time points ...\n",
      "Loading data for 20 events and 10000 original time points ...\n",
      "Loading data for 20 events and 10000 original time points ...\n",
      "Dropped 0 epochs: \n",
      "Channels marked as bad: ['E127', 'E126', 'E17', 'E21', 'E14', 'E25', 'E8', 'E128', 'E125', 'E43', 'E120', 'E48', 'E119', 'E49', 'E113', 'E81', 'E73', 'E88', 'E68', 'E94', 'E63', 'E99', 'E56', 'E107']\n"
     ]
    }
   ],
   "source": [
    "epochs.plot()"
   ]
  },
  {
   "cell_type": "code",
   "execution_count": 23,
   "metadata": {},
   "outputs": [
    {
     "ename": "NameError",
     "evalue": "name 'STOP' is not defined",
     "output_type": "error",
     "traceback": [
      "\u001b[0;31m---------------------------------------------------------------------------\u001b[0m",
      "\u001b[0;31mNameError\u001b[0m                                 Traceback (most recent call last)",
      "\u001b[0;32m/var/folders/hq/2_qlrs5941n7mqt94skwmr9w0000gn/T/ipykernel_53779/2165152129.py\u001b[0m in \u001b[0;36m<module>\u001b[0;34m\u001b[0m\n\u001b[0;32m----> 1\u001b[0;31m \u001b[0mSTOP\u001b[0m\u001b[0;34m\u001b[0m\u001b[0;34m\u001b[0m\u001b[0m\n\u001b[0m",
      "\u001b[0;31mNameError\u001b[0m: name 'STOP' is not defined"
     ]
    }
   ],
   "source": [
    "#STOP"
   ]
  },
  {
   "cell_type": "code",
   "execution_count": 25,
   "metadata": {},
   "outputs": [
    {
     "name": "stdout",
     "output_type": "stream",
     "text": [
      "Loading data for 1 events and 10000 original time points ...\n",
      "Loading data for 32 events and 10000 original time points ...\n"
     ]
    },
    {
     "name": "stderr",
     "output_type": "stream",
     "text": [
      "/var/folders/hq/2_qlrs5941n7mqt94skwmr9w0000gn/T/ipykernel_53779/1580890428.py:1: RuntimeWarning: This filename (../BIDS_testdata/sub-TACS01/ses-01/eeg/epochs_TACS01_01_pre.fif) does not conform to MNE naming conventions. All epochs files should end with -epo.fif, -epo.fif.gz, _epo.fif or _epo.fif.gz\n",
      "  epochs.save(pathlib.Path(out_dir) / 'epochs_{}_{}_{}.fif'.format(ID,session,task),\n"
     ]
    }
   ],
   "source": [
    "epochs.save(pathlib.Path(out_dir) / 'epochs_{}_{}_{}.fif'.format(ID,session,task), \n",
    "            overwrite=True)"
   ]
  },
  {
   "cell_type": "code",
   "execution_count": null,
   "metadata": {},
   "outputs": [],
   "source": []
  }
 ],
 "metadata": {
  "kernelspec": {
   "display_name": "Python 3 (ipykernel)",
   "language": "python",
   "name": "python3"
  },
  "language_info": {
   "codemirror_mode": {
    "name": "ipython",
    "version": 3
   },
   "file_extension": ".py",
   "mimetype": "text/x-python",
   "name": "python",
   "nbconvert_exporter": "python",
   "pygments_lexer": "ipython3",
   "version": "3.9.5"
  }
 },
 "nbformat": 4,
 "nbformat_minor": 4
}
