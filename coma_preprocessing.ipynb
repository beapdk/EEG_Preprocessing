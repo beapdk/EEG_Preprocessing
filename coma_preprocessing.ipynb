{
 "cells": [
  {
   "cell_type": "markdown",
   "metadata": {},
   "source": [
    "# Pipeline for BIAPT lab EEG Preprocessing: \n",
    "#### inspired by: https://github.com/hoechenberger/pybrain_mne/\n",
    "#### adapted by: Charlotte Maschke, Beatrice PDK and Victoria Sus\n",
    "#### This pipeline uses MNE Python to preprocess EEG data: Plese go here: \n",
    "####                                https://mne.tools/stable/overview/index.html\n",
    "####  for more documentation on MNE Python"
   ]
  },
  {
   "cell_type": "markdown",
   "metadata": {},
   "source": [
    "## Some setup and import"
   ]
  },
  {
   "cell_type": "code",
   "execution_count": 1,
   "metadata": {
    "ExecuteTime": {
     "end_time": "2022-02-07T21:44:24.521216Z",
     "start_time": "2022-02-07T21:44:23.539306Z"
    }
   },
   "outputs": [],
   "source": [
    "import matplotlib\n",
    "#import mne_bids\n",
    "import pathlib\n",
    "import mne\n",
    "import os\n",
    "import os.path as op\n",
    "import sklearn \n",
    "from mne import viz\n",
    "\n",
    "# interactive plotting functions.\n",
    "\n",
    "\n",
    "from mne.preprocessing import (ICA, create_eog_epochs, create_ecg_epochs,\n",
    "                               corrmap)\n",
    "#import openneuro\n",
    "\n",
    "#from mne_bids import BIDSPath, read_raw_bids, print_dir_tree, make_report\n",
    "\n",
    "# Ensure Matplotlib uses the Qt5Agg backend, \n",
    "# which is the best choice for MNE-Python's \n",
    "# interactive plotting functions.\n",
    "matplotlib.use('Qt5Agg')\n",
    "\n",
    "import matplotlib.pyplot as plt"
   ]
  },
  {
   "cell_type": "markdown",
   "metadata": {},
   "source": [
    "### Which subject do you want to preprocess? "
   ]
  },
  {
   "cell_type": "code",
   "execution_count": 2,
   "metadata": {
    "ExecuteTime": {
     "end_time": "2022-02-07T21:44:24.525653Z",
     "start_time": "2022-02-07T21:44:24.522906Z"
    }
   },
   "outputs": [],
   "source": [
    "ID = \"001\"\n",
    "session = \"02\"\n",
    "task = \"post60\""
   ]
  },
  {
   "cell_type": "code",
   "execution_count": 3,
   "metadata": {
    "ExecuteTime": {
     "end_time": "2022-02-07T21:44:24.563601Z",
     "start_time": "2022-02-07T21:44:24.529697Z"
    },
    "scrolled": true
   },
   "outputs": [
    {
     "data": {
      "text/plain": [
       "'./Data/coma_tacs/sub-001/ses-02/eeg/sub-001_ses-02_task-post60_eeg.mff'"
      ]
     },
     "execution_count": 3,
     "metadata": {},
     "output_type": "execute_result"
    }
   ],
   "source": [
    "raw_path = \"./Data/coma_tacs/sub-{}/ses-{}/eeg/sub-{}_ses-{}_task-{}_eeg.mff\".format(ID,session,ID,session,task)\n",
    "raw_path"
   ]
  },
  {
   "cell_type": "markdown",
   "metadata": {},
   "source": [
    "## Load the raw data!"
   ]
  },
  {
   "cell_type": "code",
   "execution_count": 4,
   "metadata": {
    "ExecuteTime": {
     "end_time": "2022-02-07T21:44:24.700052Z",
     "start_time": "2022-02-07T21:44:24.565221Z"
    },
    "scrolled": true
   },
   "outputs": [
    {
     "ename": "FileNotFoundError",
     "evalue": "input_fname does not exist: /home/bea/Bureau/BIAPT/EEG_Preprocessing_TACS/Data/coma_tacs/sub-001/ses-02/eeg/sub-001_ses-02_task-post60_eeg.mff",
     "output_type": "error",
     "traceback": [
      "\u001b[0;31m---------------------------------------------------------------------------\u001b[0m",
      "\u001b[0;31mFileNotFoundError\u001b[0m                         Traceback (most recent call last)",
      "\u001b[1;32m/home/bea/Bureau/BIAPT/EEG_Preprocessing_TACS/coma_preprocessing.ipynb Cell 8'\u001b[0m in \u001b[0;36m<cell line: 1>\u001b[0;34m()\u001b[0m\n\u001b[0;32m----> <a href='vscode-notebook-cell:/home/bea/Bureau/BIAPT/EEG_Preprocessing_TACS/coma_preprocessing.ipynb#ch0000007?line=0'>1</a>\u001b[0m raw \u001b[39m=\u001b[39m mne\u001b[39m.\u001b[39;49mio\u001b[39m.\u001b[39;49mread_raw_egi(raw_path)\n\u001b[1;32m      <a href='vscode-notebook-cell:/home/bea/Bureau/BIAPT/EEG_Preprocessing_TACS/coma_preprocessing.ipynb#ch0000007?line=1'>2</a>\u001b[0m raw\n",
      "File \u001b[0;32m<decorator-gen-238>:12\u001b[0m, in \u001b[0;36mread_raw_egi\u001b[0;34m(input_fname, eog, misc, include, exclude, preload, channel_naming, verbose)\u001b[0m\n",
      "File \u001b[0;32m~/miniconda3/envs/env_tacs/lib/python3.9/site-packages/mne/io/egi/egi.py:156\u001b[0m, in \u001b[0;36mread_raw_egi\u001b[0;34m(input_fname, eog, misc, include, exclude, preload, channel_naming, verbose)\u001b[0m\n\u001b[1;32m    <a href='file:///home/bea/miniconda3/envs/env_tacs/lib/python3.9/site-packages/mne/io/egi/egi.py?line=153'>154</a>\u001b[0m input_fname \u001b[39m=\u001b[39m \u001b[39mstr\u001b[39m(input_fname)\n\u001b[1;32m    <a href='file:///home/bea/miniconda3/envs/env_tacs/lib/python3.9/site-packages/mne/io/egi/egi.py?line=154'>155</a>\u001b[0m \u001b[39mif\u001b[39;00m input_fname\u001b[39m.\u001b[39mendswith(\u001b[39m'\u001b[39m\u001b[39m.mff\u001b[39m\u001b[39m'\u001b[39m):\n\u001b[0;32m--> <a href='file:///home/bea/miniconda3/envs/env_tacs/lib/python3.9/site-packages/mne/io/egi/egi.py?line=155'>156</a>\u001b[0m     \u001b[39mreturn\u001b[39;00m _read_raw_egi_mff(input_fname, eog, misc, include,\n\u001b[1;32m    <a href='file:///home/bea/miniconda3/envs/env_tacs/lib/python3.9/site-packages/mne/io/egi/egi.py?line=156'>157</a>\u001b[0m                              exclude, preload, channel_naming, verbose)\n\u001b[1;32m    <a href='file:///home/bea/miniconda3/envs/env_tacs/lib/python3.9/site-packages/mne/io/egi/egi.py?line=157'>158</a>\u001b[0m \u001b[39mreturn\u001b[39;00m RawEGI(input_fname, eog, misc, include, exclude, preload,\n\u001b[1;32m    <a href='file:///home/bea/miniconda3/envs/env_tacs/lib/python3.9/site-packages/mne/io/egi/egi.py?line=158'>159</a>\u001b[0m               channel_naming, verbose)\n",
      "File \u001b[0;32m<decorator-gen-235>:12\u001b[0m, in \u001b[0;36m_read_raw_egi_mff\u001b[0;34m(input_fname, eog, misc, include, exclude, preload, channel_naming, verbose)\u001b[0m\n",
      "File \u001b[0;32m~/miniconda3/envs/env_tacs/lib/python3.9/site-packages/mne/io/egi/egimff.py:379\u001b[0m, in \u001b[0;36m_read_raw_egi_mff\u001b[0;34m(input_fname, eog, misc, include, exclude, preload, channel_naming, verbose)\u001b[0m\n\u001b[1;32m    <a href='file:///home/bea/miniconda3/envs/env_tacs/lib/python3.9/site-packages/mne/io/egi/egimff.py?line=317'>318</a>\u001b[0m \u001b[39m@verbose\u001b[39m\n\u001b[1;32m    <a href='file:///home/bea/miniconda3/envs/env_tacs/lib/python3.9/site-packages/mne/io/egi/egimff.py?line=318'>319</a>\u001b[0m \u001b[39mdef\u001b[39;00m \u001b[39m_read_raw_egi_mff\u001b[39m(input_fname, eog\u001b[39m=\u001b[39m\u001b[39mNone\u001b[39;00m, misc\u001b[39m=\u001b[39m\u001b[39mNone\u001b[39;00m,\n\u001b[1;32m    <a href='file:///home/bea/miniconda3/envs/env_tacs/lib/python3.9/site-packages/mne/io/egi/egimff.py?line=319'>320</a>\u001b[0m                       include\u001b[39m=\u001b[39m\u001b[39mNone\u001b[39;00m, exclude\u001b[39m=\u001b[39m\u001b[39mNone\u001b[39;00m, preload\u001b[39m=\u001b[39m\u001b[39mFalse\u001b[39;00m,\n\u001b[1;32m    <a href='file:///home/bea/miniconda3/envs/env_tacs/lib/python3.9/site-packages/mne/io/egi/egimff.py?line=320'>321</a>\u001b[0m                       channel_naming\u001b[39m=\u001b[39m\u001b[39m'\u001b[39m\u001b[39mE\u001b[39m\u001b[39m%d\u001b[39;00m\u001b[39m'\u001b[39m, verbose\u001b[39m=\u001b[39m\u001b[39mNone\u001b[39;00m):\n\u001b[1;32m    <a href='file:///home/bea/miniconda3/envs/env_tacs/lib/python3.9/site-packages/mne/io/egi/egimff.py?line=321'>322</a>\u001b[0m     \u001b[39m\"\"\"Read EGI mff binary as raw object.\u001b[39;00m\n\u001b[1;32m    <a href='file:///home/bea/miniconda3/envs/env_tacs/lib/python3.9/site-packages/mne/io/egi/egimff.py?line=322'>323</a>\u001b[0m \n\u001b[1;32m    <a href='file:///home/bea/miniconda3/envs/env_tacs/lib/python3.9/site-packages/mne/io/egi/egimff.py?line=323'>324</a>\u001b[0m \u001b[39m    .. note:: This function attempts to create a synthetic trigger channel.\u001b[39;00m\n\u001b[0;32m   (...)\u001b[0m\n\u001b[1;32m    <a href='file:///home/bea/miniconda3/envs/env_tacs/lib/python3.9/site-packages/mne/io/egi/egimff.py?line=376'>377</a>\u001b[0m \u001b[39m    .. versionadded:: 0.15.0\u001b[39;00m\n\u001b[1;32m    <a href='file:///home/bea/miniconda3/envs/env_tacs/lib/python3.9/site-packages/mne/io/egi/egimff.py?line=377'>378</a>\u001b[0m \u001b[39m    \"\"\"\u001b[39;00m\n\u001b[0;32m--> <a href='file:///home/bea/miniconda3/envs/env_tacs/lib/python3.9/site-packages/mne/io/egi/egimff.py?line=378'>379</a>\u001b[0m     \u001b[39mreturn\u001b[39;00m RawMff(input_fname, eog, misc, include, exclude,\n\u001b[1;32m    <a href='file:///home/bea/miniconda3/envs/env_tacs/lib/python3.9/site-packages/mne/io/egi/egimff.py?line=379'>380</a>\u001b[0m                   preload, channel_naming, verbose)\n",
      "File \u001b[0;32m<decorator-gen-236>:12\u001b[0m, in \u001b[0;36m__init__\u001b[0;34m(self, input_fname, eog, misc, include, exclude, preload, channel_naming, verbose)\u001b[0m\n",
      "File \u001b[0;32m~/miniconda3/envs/env_tacs/lib/python3.9/site-packages/mne/io/egi/egimff.py:391\u001b[0m, in \u001b[0;36mRawMff.__init__\u001b[0;34m(self, input_fname, eog, misc, include, exclude, preload, channel_naming, verbose)\u001b[0m\n\u001b[1;32m    <a href='file:///home/bea/miniconda3/envs/env_tacs/lib/python3.9/site-packages/mne/io/egi/egimff.py?line=385'>386</a>\u001b[0m \u001b[39m@verbose\u001b[39m\n\u001b[1;32m    <a href='file:///home/bea/miniconda3/envs/env_tacs/lib/python3.9/site-packages/mne/io/egi/egimff.py?line=386'>387</a>\u001b[0m \u001b[39mdef\u001b[39;00m \u001b[39m__init__\u001b[39m(\u001b[39mself\u001b[39m, input_fname, eog\u001b[39m=\u001b[39m\u001b[39mNone\u001b[39;00m, misc\u001b[39m=\u001b[39m\u001b[39mNone\u001b[39;00m,\n\u001b[1;32m    <a href='file:///home/bea/miniconda3/envs/env_tacs/lib/python3.9/site-packages/mne/io/egi/egimff.py?line=387'>388</a>\u001b[0m              include\u001b[39m=\u001b[39m\u001b[39mNone\u001b[39;00m, exclude\u001b[39m=\u001b[39m\u001b[39mNone\u001b[39;00m, preload\u001b[39m=\u001b[39m\u001b[39mFalse\u001b[39;00m,\n\u001b[1;32m    <a href='file:///home/bea/miniconda3/envs/env_tacs/lib/python3.9/site-packages/mne/io/egi/egimff.py?line=388'>389</a>\u001b[0m              channel_naming\u001b[39m=\u001b[39m\u001b[39m'\u001b[39m\u001b[39mE\u001b[39m\u001b[39m%d\u001b[39;00m\u001b[39m'\u001b[39m, verbose\u001b[39m=\u001b[39m\u001b[39mNone\u001b[39;00m):\n\u001b[1;32m    <a href='file:///home/bea/miniconda3/envs/env_tacs/lib/python3.9/site-packages/mne/io/egi/egimff.py?line=389'>390</a>\u001b[0m     \u001b[39m\"\"\"Init the RawMff class.\"\"\"\u001b[39;00m\n\u001b[0;32m--> <a href='file:///home/bea/miniconda3/envs/env_tacs/lib/python3.9/site-packages/mne/io/egi/egimff.py?line=390'>391</a>\u001b[0m     input_fname \u001b[39m=\u001b[39m _check_fname(input_fname, \u001b[39m'\u001b[39;49m\u001b[39mread\u001b[39;49m\u001b[39m'\u001b[39;49m, \u001b[39mTrue\u001b[39;49;00m, \u001b[39m'\u001b[39;49m\u001b[39minput_fname\u001b[39;49m\u001b[39m'\u001b[39;49m,\n\u001b[1;32m    <a href='file:///home/bea/miniconda3/envs/env_tacs/lib/python3.9/site-packages/mne/io/egi/egimff.py?line=391'>392</a>\u001b[0m                                need_dir\u001b[39m=\u001b[39;49m\u001b[39mTrue\u001b[39;49;00m)\n\u001b[1;32m    <a href='file:///home/bea/miniconda3/envs/env_tacs/lib/python3.9/site-packages/mne/io/egi/egimff.py?line=392'>393</a>\u001b[0m     logger\u001b[39m.\u001b[39minfo(\u001b[39m'\u001b[39m\u001b[39mReading EGI MFF Header from \u001b[39m\u001b[39m%s\u001b[39;00m\u001b[39m...\u001b[39m\u001b[39m'\u001b[39m \u001b[39m%\u001b[39m input_fname)\n\u001b[1;32m    <a href='file:///home/bea/miniconda3/envs/env_tacs/lib/python3.9/site-packages/mne/io/egi/egimff.py?line=393'>394</a>\u001b[0m     egi_info \u001b[39m=\u001b[39m _read_header(input_fname)\n",
      "File \u001b[0;32m<decorator-gen-0>:12\u001b[0m, in \u001b[0;36m_check_fname\u001b[0;34m(fname, overwrite, must_exist, name, need_dir, verbose)\u001b[0m\n",
      "File \u001b[0;32m~/miniconda3/envs/env_tacs/lib/python3.9/site-packages/mne/utils/check.py:244\u001b[0m, in \u001b[0;36m_check_fname\u001b[0;34m(fname, overwrite, must_exist, name, need_dir, verbose)\u001b[0m\n\u001b[1;32m    <a href='file:///home/bea/miniconda3/envs/env_tacs/lib/python3.9/site-packages/mne/utils/check.py?line=240'>241</a>\u001b[0m             \u001b[39mraise\u001b[39;00m \u001b[39mPermissionError\u001b[39;00m(\n\u001b[1;32m    <a href='file:///home/bea/miniconda3/envs/env_tacs/lib/python3.9/site-packages/mne/utils/check.py?line=241'>242</a>\u001b[0m                 \u001b[39mf\u001b[39m\u001b[39m'\u001b[39m\u001b[39m{\u001b[39;00mname\u001b[39m}\u001b[39;00m\u001b[39m does not have read permissions: \u001b[39m\u001b[39m{\u001b[39;00mfname\u001b[39m}\u001b[39;00m\u001b[39m'\u001b[39m)\n\u001b[1;32m    <a href='file:///home/bea/miniconda3/envs/env_tacs/lib/python3.9/site-packages/mne/utils/check.py?line=242'>243</a>\u001b[0m \u001b[39melif\u001b[39;00m must_exist:\n\u001b[0;32m--> <a href='file:///home/bea/miniconda3/envs/env_tacs/lib/python3.9/site-packages/mne/utils/check.py?line=243'>244</a>\u001b[0m     \u001b[39mraise\u001b[39;00m \u001b[39mFileNotFoundError\u001b[39;00m(\u001b[39mf\u001b[39m\u001b[39m'\u001b[39m\u001b[39m{\u001b[39;00mname\u001b[39m}\u001b[39;00m\u001b[39m does not exist: \u001b[39m\u001b[39m{\u001b[39;00mfname\u001b[39m}\u001b[39;00m\u001b[39m'\u001b[39m)\n\u001b[1;32m    <a href='file:///home/bea/miniconda3/envs/env_tacs/lib/python3.9/site-packages/mne/utils/check.py?line=245'>246</a>\u001b[0m \u001b[39mreturn\u001b[39;00m fname\n",
      "\u001b[0;31mFileNotFoundError\u001b[0m: input_fname does not exist: /home/bea/Bureau/BIAPT/EEG_Preprocessing_TACS/Data/coma_tacs/sub-001/ses-02/eeg/sub-001_ses-02_task-post60_eeg.mff"
     ]
    }
   ],
   "source": [
    "raw = mne.io.read_raw_egi(raw_path)\n",
    "raw"
   ]
  },
  {
   "cell_type": "markdown",
   "metadata": {},
   "source": [
    "## Resample the data to 250"
   ]
  },
  {
   "cell_type": "code",
   "execution_count": null,
   "metadata": {},
   "outputs": [],
   "source": [
    "if raw.info['sfreq'] != 250:\n",
    "    raw = raw.resample(250)"
   ]
  },
  {
   "cell_type": "markdown",
   "metadata": {},
   "source": [
    "### Keep only the EEG"
   ]
  },
  {
   "cell_type": "code",
   "execution_count": null,
   "metadata": {},
   "outputs": [],
   "source": [
    "# this is to load EEG. If you want to load other stuff please refer to the website documetation\n",
    "eeg = raw.pick_types(eeg = True)\n",
    "print('Number of channels in EEG:')\n",
    "len(eeg.ch_names)"
   ]
  },
  {
   "cell_type": "markdown",
   "metadata": {},
   "source": [
    "## Filter the data"
   ]
  },
  {
   "cell_type": "code",
   "execution_count": null,
   "metadata": {
    "ExecuteTime": {
     "end_time": "2022-02-07T21:44:30.087141Z",
     "start_time": "2022-02-07T21:44:24.715216Z"
    },
    "scrolled": true
   },
   "outputs": [],
   "source": [
    "# load actual data into system (before it was only metadata)\n",
    "eeg.load_data()\n",
    "#eeg.load_data()\n",
    "\n",
    "# filter the data between 1 to 55 Hz\n",
    "eeg_filtered = eeg.filter(l_freq=1, h_freq = 55)# we needed to lower the low_pass to 50 because of the presence of a weird machine artifact\n",
    "#eeg_filtered = eeg.filter(l_freq=1, h_freq = 55) \n",
    "\n",
    "# notch filter the data for freq =60\n",
    "eeg_notch = eeg_filtered.copy().notch_filter(freqs= 60)\n",
    "#eeg_notch = eeg_filtered.notch_filter(freqs=60)\n"
   ]
  },
  {
   "cell_type": "code",
   "execution_count": null,
   "metadata": {},
   "outputs": [],
   "source": [
    "%matplotlib qt\n",
    "viz.plot_raw_psd(eeg_notch, exclude = ['E129'], fmax = 70)\n",
    "plt.savefig('./out_figures/coma_tacs/sub-{}/ses-{}/task-{}/sub-{}_ses-{}_task-{}_PSD_raw_filtered.png'.format(ID,session,task,ID,session,task))"
   ]
  },
  {
   "cell_type": "markdown",
   "metadata": {},
   "source": [
    "## Crop the data"
   ]
  },
  {
   "cell_type": "markdown",
   "metadata": {},
   "source": [
    "Depending on the data, we may need to crop the begining or/and the end"
   ]
  },
  {
   "cell_type": "code",
   "execution_count": null,
   "metadata": {},
   "outputs": [],
   "source": [
    "eeg_notch.plot(duration=10, n_channels=60, title='raw')"
   ]
  },
  {
   "cell_type": "markdown",
   "metadata": {},
   "source": [
    "Select if begining and end should be cropped and adapt next line accordingly"
   ]
  },
  {
   "cell_type": "code",
   "execution_count": null,
   "metadata": {},
   "outputs": [],
   "source": [
    "eeg_cropped= eeg_notch.crop(tmax=335.0)"
   ]
  },
  {
   "cell_type": "code",
   "execution_count": null,
   "metadata": {},
   "outputs": [],
   "source": [
    "eeg_cropped.plot(duration=10, n_channels=60,title='cropped')"
   ]
  },
  {
   "cell_type": "code",
   "execution_count": null,
   "metadata": {},
   "outputs": [],
   "source": [
    "eeg_cropped"
   ]
  },
  {
   "cell_type": "markdown",
   "metadata": {
    "ExecuteTime": {
     "end_time": "2022-02-07T20:51:37.136534Z",
     "start_time": "2022-02-07T20:51:37.126783Z"
    }
   },
   "source": [
    "## Visualize raw data to identify bad channels"
   ]
  },
  {
   "cell_type": "code",
   "execution_count": null,
   "metadata": {
    "scrolled": true
   },
   "outputs": [],
   "source": [
    "eeg_cropped.plot(n_channels=60, duration=20)"
   ]
  },
  {
   "cell_type": "markdown",
   "metadata": {},
   "source": [
    "Verify if labelled correctly"
   ]
  },
  {
   "cell_type": "code",
   "execution_count": null,
   "metadata": {
    "ExecuteTime": {
     "end_time": "2022-02-07T21:44:30.445457Z",
     "start_time": "2022-02-07T21:44:30.442487Z"
    }
   },
   "outputs": [],
   "source": [
    "marked_bad = eeg_cropped.info['bads']\n",
    "marked_bad"
   ]
  },
  {
   "cell_type": "code",
   "execution_count": null,
   "metadata": {},
   "outputs": [],
   "source": [
    "# save in a txt\n",
    "with open('./eeg_output/coma_tacs/sub-{}/ses-{}/eeg/sub-{}_ses-{}_task-{}_marked_bads.json'.format(ID,session,ID,session,task), 'w') as outfile:\n",
    "    outfile.write(\"\\n\".join(marked_bad))\n"
   ]
  },
  {
   "cell_type": "markdown",
   "metadata": {},
   "source": [
    "# Interpolate bad channels"
   ]
  },
  {
   "cell_type": "code",
   "execution_count": null,
   "metadata": {},
   "outputs": [],
   "source": [
    "eeg_interpol = eeg_cropped.interpolate_bads()"
   ]
  },
  {
   "cell_type": "markdown",
   "metadata": {},
   "source": [
    "## Average Reference the data"
   ]
  },
  {
   "cell_type": "code",
   "execution_count": null,
   "metadata": {
    "ExecuteTime": {
     "end_time": "2022-02-07T21:44:30.849055Z",
     "start_time": "2022-02-07T21:44:30.478874Z"
    },
    "scrolled": true
   },
   "outputs": [],
   "source": [
    "# use the average of all channels as reference\n",
    "eeg_avg_ref = eeg_interpol.set_eeg_reference(ref_channels='average')"
   ]
  },
  {
   "cell_type": "code",
   "execution_count": null,
   "metadata": {},
   "outputs": [],
   "source": [
    "eeg_avg_ref.plot(duration=10,n_channels=60)"
   ]
  },
  {
   "cell_type": "code",
   "execution_count": null,
   "metadata": {},
   "outputs": [],
   "source": [
    "%matplotlib tk\n",
    "viz.plot_raw_psd(eeg_avg_ref, fmax = 70)\n",
    "plt.savefig('./out_figures/coma_tacs/sub-{}/ses-{}/task-{}/sub-{}_ses-{}_task-{}_PSD_avg_ref.png'.format(ID,session,task,ID,session,task))"
   ]
  },
  {
   "cell_type": "code",
   "execution_count": null,
   "metadata": {
    "ExecuteTime": {
     "end_time": "2022-02-07T21:44:30.854038Z",
     "start_time": "2022-02-07T21:44:30.850670Z"
    },
    "scrolled": true
   },
   "outputs": [],
   "source": [
    "print(eeg_avg_ref.info)"
   ]
  },
  {
   "cell_type": "markdown",
   "metadata": {},
   "source": [
    "# RUN ICA"
   ]
  },
  {
   "cell_type": "markdown",
   "metadata": {},
   "source": [
    "## Manual selection of ICA components"
   ]
  },
  {
   "cell_type": "code",
   "execution_count": null,
   "metadata": {},
   "outputs": [],
   "source": [
    "# pick some channels that clearly show heartbeats and blinks\n",
    "#eog_channels = ['E8', 'E12','E14','E21', 'E25', 'E126', 'E127']"
   ]
  },
  {
   "cell_type": "code",
   "execution_count": null,
   "metadata": {},
   "outputs": [],
   "source": [
    "#eeg_avg_ref.info['EOG channels']\n",
    "from mne.preprocessing import (ICA, create_eog_epochs, create_ecg_epochs,\n",
    "                               corrmap)\n",
    "\n",
    "ica = ICA(n_components=15, max_iter='auto', random_state=97)\n",
    "ica.fit(eeg_avg_ref)"
   ]
  },
  {
   "cell_type": "code",
   "execution_count": null,
   "metadata": {},
   "outputs": [],
   "source": [
    "ica.plot_sources(eeg_avg_ref, show_scrollbars=False, stop = 60)\n"
   ]
  },
  {
   "cell_type": "code",
   "execution_count": null,
   "metadata": {},
   "outputs": [],
   "source": [
    "ica.plot_components()"
   ]
  },
  {
   "cell_type": "code",
   "execution_count": null,
   "metadata": {},
   "outputs": [],
   "source": [
    "ica"
   ]
  },
  {
   "cell_type": "code",
   "execution_count": null,
   "metadata": {},
   "outputs": [],
   "source": [
    "# blinks\n",
    "ica.plot_overlay(eeg_avg_ref, start = 30*250, stop = 40*250)\n",
    "#ica.plot_overlay(eeg_avg_ref, exclude=[0,1,2,3],start = 30*250, stop = 40*250)"
   ]
  },
  {
   "cell_type": "markdown",
   "metadata": {},
   "source": [
    "Double check which component to remove: "
   ]
  },
  {
   "cell_type": "code",
   "execution_count": null,
   "metadata": {},
   "outputs": [],
   "source": [
    "ica.exclude"
   ]
  },
  {
   "cell_type": "markdown",
   "metadata": {},
   "source": [
    "Remove component definetely"
   ]
  },
  {
   "cell_type": "code",
   "execution_count": null,
   "metadata": {},
   "outputs": [],
   "source": [
    "eeg_postica = eeg_avg_ref.copy()\n",
    "ica.apply(eeg_postica)"
   ]
  },
  {
   "cell_type": "code",
   "execution_count": null,
   "metadata": {},
   "outputs": [],
   "source": [
    "# PLot to compare both signals pre and post ICA\n",
    "eeg_avg_ref.plot(title='raw', duration = 30, n_channels=100, scalings=20e-6)\n",
    "eeg_postica.plot(title='ICA correction', duration = 30, n_channels=100, scalings=20e-6)"
   ]
  },
  {
   "cell_type": "markdown",
   "metadata": {},
   "source": [
    "Identify remaining  bad channels"
   ]
  },
  {
   "cell_type": "code",
   "execution_count": null,
   "metadata": {},
   "outputs": [],
   "source": [
    "\n",
    "eeg_postica.plot(title='Identify bad channels, post ICA and interpolation',duration = 30, n_channels=100, scalings=20e-6)"
   ]
  },
  {
   "cell_type": "markdown",
   "metadata": {},
   "source": [
    "## Remove Non-Brain Electrodes and bad channels "
   ]
  },
  {
   "cell_type": "code",
   "execution_count": null,
   "metadata": {
    "ExecuteTime": {
     "end_time": "2022-02-07T21:44:30.882892Z",
     "start_time": "2022-02-07T21:44:30.855951Z"
    }
   },
   "outputs": [],
   "source": [
    "non_brain_el = ['E127', 'E126', 'E17', 'E21', 'E14', 'E25', 'E8', 'E128', 'E125', 'E43', 'E120', 'E48', \n",
    "                'E119', 'E49', 'E113', 'E81', 'E73', 'E88', 'E68', 'E94', 'E63', 'E99', 'E56', 'E107' ]\n",
    "\n",
    "#only add non-brain channels if not already part of noisy channels\n",
    "for e in non_brain_el: \n",
    "    if e not in eeg_avg_ref.info['bads']:\n",
    "        eeg_postica.info['bads'].append(e)\n"
   ]
  },
  {
   "cell_type": "code",
   "execution_count": null,
   "metadata": {
    "ExecuteTime": {
     "end_time": "2022-02-07T21:44:30.970116Z",
     "start_time": "2022-02-07T21:44:30.966748Z"
    }
   },
   "outputs": [],
   "source": [
    "#print(eeg_postica.info['bads'])"
   ]
  },
  {
   "cell_type": "code",
   "execution_count": null,
   "metadata": {},
   "outputs": [],
   "source": [
    "# remove channels marked as bad and non-brain channels\n",
    "eeg_brainonly = eeg_postica.copy().drop_channels(eeg_postica.info['bads'])\n",
    "eeg_brainonly"
   ]
  },
  {
   "cell_type": "code",
   "execution_count": null,
   "metadata": {},
   "outputs": [],
   "source": [
    "eeg_brainonly.plot(title='brain only',n_channels=60, duration=10)"
   ]
  },
  {
   "cell_type": "markdown",
   "metadata": {},
   "source": [
    "## Save final non brain data"
   ]
  },
  {
   "cell_type": "code",
   "execution_count": null,
   "metadata": {
    "ExecuteTime": {
     "start_time": "2022-02-07T21:44:24.159Z"
    }
   },
   "outputs": [],
   "source": [
    "#out_dir = pathlib.Path(\"./Results/sub-{}/ses-{}/eeg/\".format(ID,session))\n",
    "\n",
    "#if not os.path.exists(out_dir):\n",
    "    #os.makedirs(out_dir)\n",
    "    \n",
    "#out_path = pathlib.Path(out_dir, \"sub-{}_ses-{}_task-{}.set\".format(ID,session,task))"
   ]
  },
  {
   "cell_type": "code",
   "execution_count": null,
   "metadata": {
    "scrolled": true
   },
   "outputs": [],
   "source": [
    "eeg_brainonly.save(\"./eeg_output/coma_tacs/sub-{}/ses-{}/eeg/sub-{}_ses-{}_task-{}_{}_eeg.fif\".format(ID, session, ID, session, task, 'nonbrainfiltered_noncut'), overwrite=True)\n",
    "#ici changer pour le sauver dans derivatives, dossier clean (avec un readme expliquant le cleaning) et le fichier sous le bids format"
   ]
  },
  {
   "cell_type": "markdown",
   "metadata": {},
   "source": [
    "# Make epochs of 10 s"
   ]
  },
  {
   "cell_type": "code",
   "execution_count": null,
   "metadata": {},
   "outputs": [],
   "source": [
    "epochs = mne.make_fixed_length_epochs(eeg_brainonly, duration = 10, overlap=0)"
   ]
  },
  {
   "cell_type": "code",
   "execution_count": null,
   "metadata": {},
   "outputs": [],
   "source": [
    "epochs  #verify initial number"
   ]
  },
  {
   "cell_type": "code",
   "execution_count": null,
   "metadata": {},
   "outputs": [],
   "source": [
    "epochs.plot(n_epochs=3, n_channels=100, scalings=20e-6)"
   ]
  },
  {
   "cell_type": "code",
   "execution_count": null,
   "metadata": {},
   "outputs": [],
   "source": [
    "epochs #verify how many are left"
   ]
  },
  {
   "cell_type": "markdown",
   "metadata": {},
   "source": [
    "Verify psd"
   ]
  },
  {
   "cell_type": "code",
   "execution_count": null,
   "metadata": {},
   "outputs": [],
   "source": [
    "%matplotlib qt\n",
    "epochs.plot_psd(fmax=55)"
   ]
  },
  {
   "cell_type": "code",
   "execution_count": null,
   "metadata": {},
   "outputs": [],
   "source": [
    "epochs.save((\"./eeg_output/coma_tacs/sub-{}/ses-{}/eeg/sub-{}_ses-{}_task-{}_{}_eeg.fif\".format(ID, session, ID, session, task, 'epoch')),overwrite=True)\n"
   ]
  }
 ],
 "metadata": {
  "kernelspec": {
   "display_name": "Python 3 (ipykernel)",
   "language": "python",
   "name": "python3"
  },
  "language_info": {
   "codemirror_mode": {
    "name": "ipython",
    "version": 3
   },
   "file_extension": ".py",
   "mimetype": "text/x-python",
   "name": "python",
   "nbconvert_exporter": "python",
   "pygments_lexer": "ipython3",
   "version": "3.9.7"
  },
  "toc": {
   "base_numbering": 1,
   "nav_menu": {},
   "number_sections": true,
   "sideBar": true,
   "skip_h1_title": false,
   "title_cell": "Table of Contents",
   "title_sidebar": "Contents",
   "toc_cell": false,
   "toc_position": {},
   "toc_section_display": true,
   "toc_window_display": false
  }
 },
 "nbformat": 4,
 "nbformat_minor": 4
}
