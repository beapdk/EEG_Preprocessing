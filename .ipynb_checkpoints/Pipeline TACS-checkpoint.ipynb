{
 "cells": [
  {
   "cell_type": "markdown",
   "metadata": {},
   "source": [
    "# Pipeline for BIAPT lab EEG Preprocessing: \n",
    "#### inspired by: https://github.com/hoechenberger/pybrain_mne/\n",
    "#### adapted by: Charlotte Maschke\n",
    "#### This pipeline uses MNE Python to preprocess EEG data: Plese go here: \n",
    "####                                https://mne.tools/stable/overview/index.html\n",
    "####  for more documentation on MNE Python"
   ]
  },
  {
   "cell_type": "markdown",
   "metadata": {},
   "source": [
    "## Some setup and import"
   ]
  },
  {
   "cell_type": "code",
   "execution_count": 1,
   "metadata": {
    "ExecuteTime": {
     "end_time": "2022-02-07T18:46:00.571844Z",
     "start_time": "2022-02-07T18:45:59.544938Z"
    }
   },
   "outputs": [],
   "source": [
    "import matplotlib\n",
    "import mne_bids\n",
    "import pathlib\n",
    "import mne\n",
    "import os\n",
    "import os.path as op\n",
    "import openneuro\n",
    "\n",
    "from mne_bids import BIDSPath, read_raw_bids, print_dir_tree, make_report\n",
    "\n",
    "# Ensure Matplotlib uses the Qt5Agg backend, \n",
    "# which is the best choice for MNE-Python's \n",
    "# interactive plotting functions.\n",
    "matplotlib.use('Qt5Agg')\n",
    "\n",
    "import matplotlib.pyplot as plt"
   ]
  },
  {
   "cell_type": "markdown",
   "metadata": {},
   "source": [
    "### Which subject do you want to preprocess? "
   ]
  },
  {
   "cell_type": "code",
   "execution_count": 2,
   "metadata": {
    "ExecuteTime": {
     "end_time": "2022-02-07T18:46:00.575831Z",
     "start_time": "2022-02-07T18:46:00.573480Z"
    }
   },
   "outputs": [],
   "source": [
    "ID = \"TACS01\"\n",
    "session = \"01\"\n",
    "task = \"pre\""
   ]
  },
  {
   "cell_type": "code",
   "execution_count": 3,
   "metadata": {
    "ExecuteTime": {
     "end_time": "2022-02-07T18:46:00.588965Z",
     "start_time": "2022-02-07T18:46:00.577687Z"
    }
   },
   "outputs": [
    {
     "data": {
      "text/plain": [
       "'./Data/sub-TACS01/ses-01/eeg/sub-TACS01_ses-01_task-pre_eeg.set'"
      ]
     },
     "execution_count": 3,
     "metadata": {},
     "output_type": "execute_result"
    }
   ],
   "source": [
    "raw_path = \"./Data/sub-{}/ses-{}/eeg/sub-{}_ses-{}_task-{}_eeg.set\".format(ID,session,ID,session,task)\n",
    "raw_path"
   ]
  },
  {
   "cell_type": "markdown",
   "metadata": {},
   "source": [
    "## Load the raw data!"
   ]
  },
  {
   "cell_type": "code",
   "execution_count": 4,
   "metadata": {
    "ExecuteTime": {
     "end_time": "2022-02-07T18:46:00.725500Z",
     "start_time": "2022-02-07T18:46:00.590600Z"
    }
   },
   "outputs": [
    {
     "name": "stdout",
     "output_type": "stream",
     "text": [
      "Reading /home/bea/Bureau/BIAPT/EEG_Preprocessing_TACS/Data/sub-TACS01/ses-01/eeg/sub-TACS01_ses-01_task-pre_eeg.fdt\n"
     ]
    },
    {
     "data": {
      "text/html": [
       "\n",
       "\n",
       "<table class=\"table table-hover\">\n",
       "    <tr>\n",
       "        <th>Measurement date</th>\n",
       "<td>Unknown</td>\n",
       "    </tr>\n",
       "    <tr>\n",
       "        <th>Experimenter</th>\n",
       "<td>Unknown</td>\n",
       "    </tr>\n",
       "        <th>Participant</th>\n",
       "<td>Unknown</td>\n",
       "    </tr>\n",
       "    <tr>\n",
       "        <th>Digitized points</th>\n",
       "        <td>129 points</td>\n",
       "    </tr>\n",
       "    <tr>\n",
       "        <th>Good channels</th>\n",
       "        <td>0 magnetometer, 0 gradiometer,\n",
       "            and 129 EEG channels</td>\n",
       "    </tr>\n",
       "    <tr>\n",
       "        <th>Bad channels</th>\n",
       "        <td></td>\n",
       "        \n",
       "    </tr>\n",
       "    <tr>\n",
       "        <th>EOG channels</th>\n",
       "        <td>Not available</td>\n",
       "    </tr>\n",
       "    <tr>\n",
       "        <th>ECG channels</th>\n",
       "        <td>Not available</td>\n",
       "    <tr>\n",
       "        <th>Sampling frequency</th>\n",
       "        <td>1000.00 Hz</td>\n",
       "    </tr>\n",
       "    <tr>\n",
       "        <th>Highpass</th>\n",
       "        <td>0.00 Hz</td>\n",
       "    </tr>\n",
       "     <tr>\n",
       "        <th>Lowpass</th>\n",
       "        <td>500.00 Hz</td>\n",
       "    </tr>\n",
       "\n",
       "    <tr>\n",
       "        <th>Filenames</th>\n",
       "        <td>sub-TACS01_ses-01_task-pre_eeg.fdt</td>\n",
       "    </tr>\n",
       "    <tr>\n",
       "        <th>Duration</th>\n",
       "        <td>00:05:22 (HH:MM:SS)</td>\n",
       "    </tr>\n",
       "</table>\n"
      ],
      "text/plain": [
       "<RawEEGLAB | sub-TACS01_ses-01_task-pre_eeg.fdt, 129 x 322142 (322.1 s), ~175 kB, data not loaded>"
      ]
     },
     "execution_count": 4,
     "metadata": {},
     "output_type": "execute_result"
    }
   ],
   "source": [
    "raw = mne.io.read_raw_eeglab(raw_path)\n",
    "raw"
   ]
  },
  {
   "cell_type": "markdown",
   "metadata": {},
   "source": [
    "## Crop the data"
   ]
  },
  {
   "cell_type": "markdown",
   "metadata": {},
   "source": [
    "For the crop, this is here to facilitate the demo, but in general we mostly select the time of interest manually. For example we started recording to stop sedation bur waited 10 min for the nurse. In this case we would crop.\n",
    "If you do not need the crop or stop, just comment it out or delete the cell in your branch"
   ]
  },
  {
   "cell_type": "markdown",
   "metadata": {},
   "source": [
    "crop on 2 ends:  .crop(tmin = 000 , tmax = 000)  \n",
    "crop beginning:  .crop(tmin = 100 )  \n",
    "crop end only :  .crop(tmax = 100)\n",
    "\n",
    "#### the values here are in seconds ! "
   ]
  },
  {
   "cell_type": "code",
   "execution_count": 5,
   "metadata": {
    "ExecuteTime": {
     "end_time": "2022-02-07T18:46:00.731656Z",
     "start_time": "2022-02-07T18:46:00.726970Z"
    }
   },
   "outputs": [
    {
     "name": "stdout",
     "output_type": "stream",
     "text": [
      "Length of Signal in min: \n"
     ]
    },
    {
     "data": {
      "text/plain": [
       "5.369016666666667"
      ]
     },
     "execution_count": 5,
     "metadata": {},
     "output_type": "execute_result"
    }
   ],
   "source": [
    "# show the duration of your signal\n",
    "print(\"Length of Signal in min: \")\n",
    "raw.times[-1]/60"
   ]
  },
  {
   "cell_type": "code",
   "execution_count": 6,
   "metadata": {
    "ExecuteTime": {
     "end_time": "2022-02-07T18:46:00.787216Z",
     "start_time": "2022-02-07T18:46:00.733271Z"
    }
   },
   "outputs": [],
   "source": [
    "# this can be used to transform minutes to seconds\n",
    "#ms_min = 1  * 60 \n",
    "#ms_max = 3  * 60"
   ]
  },
  {
   "cell_type": "code",
   "execution_count": 7,
   "metadata": {
    "ExecuteTime": {
     "end_time": "2022-02-07T18:46:00.799835Z",
     "start_time": "2022-02-07T18:46:00.794869Z"
    }
   },
   "outputs": [],
   "source": [
    "# input here your minimal and maximal time you want to keep \n",
    "#raw_cropped = raw.copy().crop(tmin = ms_min)\n",
    "#raw_cropped = raw.copy().crop(tmin = ms_min, tmax = ms_max)"
   ]
  },
  {
   "cell_type": "markdown",
   "metadata": {},
   "source": [
    "### Keep only the EEG"
   ]
  },
  {
   "cell_type": "code",
   "execution_count": 8,
   "metadata": {
    "ExecuteTime": {
     "end_time": "2022-02-07T18:46:00.815586Z",
     "start_time": "2022-02-07T18:46:00.805598Z"
    }
   },
   "outputs": [
    {
     "name": "stdout",
     "output_type": "stream",
     "text": [
      "Number of channels in EEG:\n"
     ]
    },
    {
     "data": {
      "text/plain": [
       "129"
      ]
     },
     "execution_count": 8,
     "metadata": {},
     "output_type": "execute_result"
    }
   ],
   "source": [
    "# this is to load EEG. If you want to load other stuff please refer to the website documetation\n",
    "#eeg_cropped = raw_cropped.pick_types(eeg = True)\n",
    "eeg = raw.pick_types(eeg = True)\n",
    "print('Number of channels in EEG:')\n",
    "#len(eeg_cropped.ch_names)\n",
    "len(eeg.ch_names)"
   ]
  },
  {
   "cell_type": "markdown",
   "metadata": {},
   "source": [
    "## Filter the data"
   ]
  },
  {
   "cell_type": "code",
   "execution_count": 9,
   "metadata": {
    "ExecuteTime": {
     "end_time": "2022-02-07T18:46:06.510884Z",
     "start_time": "2022-02-07T18:46:00.818609Z"
    }
   },
   "outputs": [
    {
     "name": "stdout",
     "output_type": "stream",
     "text": [
      "Reading 0 ... 322141  =      0.000 ...   322.141 secs...\n",
      "Filtering raw data in 1 contiguous segment\n",
      "Setting up band-pass filter from 0.1 - 55 Hz\n",
      "\n",
      "FIR filter parameters\n",
      "---------------------\n",
      "Designing a one-pass, zero-phase, non-causal bandpass filter:\n",
      "- Windowed time-domain design (firwin) method\n",
      "- Hamming window with 0.0194 passband ripple and 53 dB stopband attenuation\n",
      "- Lower passband edge: 0.10\n",
      "- Lower transition bandwidth: 0.10 Hz (-6 dB cutoff frequency: 0.05 Hz)\n",
      "- Upper passband edge: 55.00 Hz\n",
      "- Upper transition bandwidth: 13.75 Hz (-6 dB cutoff frequency: 61.88 Hz)\n",
      "- Filter length: 33001 samples (33.001 sec)\n",
      "\n",
      "Setting up band-stop filter from 59 - 61 Hz\n",
      "\n",
      "FIR filter parameters\n",
      "---------------------\n",
      "Designing a one-pass, zero-phase, non-causal bandstop filter:\n",
      "- Windowed time-domain design (firwin) method\n",
      "- Hamming window with 0.0194 passband ripple and 53 dB stopband attenuation\n",
      "- Lower passband edge: 59.35\n",
      "- Lower transition bandwidth: 0.50 Hz (-6 dB cutoff frequency: 59.10 Hz)\n",
      "- Upper passband edge: 60.65 Hz\n",
      "- Upper transition bandwidth: 0.50 Hz (-6 dB cutoff frequency: 60.90 Hz)\n",
      "- Filter length: 6601 samples (6.601 sec)\n",
      "\n"
     ]
    }
   ],
   "source": [
    "# load actual data into system (before it was only metadata)\n",
    "#eeg_cropped.load_data()\n",
    "eeg.load_data()\n",
    "\n",
    "# filter the data between 0.1 to 55 Hz\n",
    "#eeg_cropped_filtered = eeg_cropped.filter(l_freq=0.1, h_freq = 55)\n",
    "eeg_filtered = eeg.filter(l_freq=0.1, h_freq = 55)\n",
    "\n",
    "# notch filter the data\n",
    "#eeg_filtered = eeg_cropped_filtered.copy().notch_filter(freqs=60)\n",
    "eeg_filtered = eeg_filtered.copy().notch_filter(freqs=60)\n"
   ]
  },
  {
   "cell_type": "markdown",
   "metadata": {},
   "source": [
    "## Mark channels as bad"
   ]
  },
  {
   "cell_type": "code",
   "execution_count": 10,
   "metadata": {
    "ExecuteTime": {
     "end_time": "2022-02-07T18:46:07.146887Z",
     "start_time": "2022-02-07T18:46:06.512418Z"
    },
    "scrolled": false
   },
   "outputs": [
    {
     "data": {
      "text/plain": [
       "<MNEBrowseFigure size 3840x2060 with 4 Axes>"
      ]
     },
     "execution_count": 10,
     "metadata": {},
     "output_type": "execute_result"
    }
   ],
   "source": [
    "eeg_filtered.plot(n_channels=129)"
   ]
  },
  {
   "cell_type": "code",
   "execution_count": 11,
   "metadata": {
    "ExecuteTime": {
     "end_time": "2022-02-07T18:46:07.152031Z",
     "start_time": "2022-02-07T18:46:07.149179Z"
    }
   },
   "outputs": [],
   "source": [
    "#STOP"
   ]
  },
  {
   "cell_type": "markdown",
   "metadata": {},
   "source": [
    "Mark an additional EEG channel as bad and view the topoplot."
   ]
  },
  {
   "cell_type": "code",
   "execution_count": 12,
   "metadata": {
    "ExecuteTime": {
     "end_time": "2022-02-07T18:46:07.160770Z",
     "start_time": "2022-02-07T18:46:07.153880Z"
    }
   },
   "outputs": [
    {
     "data": {
      "text/plain": [
       "[]"
      ]
     },
     "execution_count": 12,
     "metadata": {},
     "output_type": "execute_result"
    }
   ],
   "source": [
    "eeg_filtered.info['bads']"
   ]
  },
  {
   "cell_type": "markdown",
   "metadata": {},
   "source": [
    "### Average Reference the data"
   ]
  },
  {
   "cell_type": "code",
   "execution_count": 13,
   "metadata": {
    "ExecuteTime": {
     "end_time": "2022-02-07T18:46:07.660705Z",
     "start_time": "2022-02-07T18:46:07.162786Z"
    }
   },
   "outputs": [
    {
     "name": "stdout",
     "output_type": "stream",
     "text": [
      "EEG channel type selected for re-referencing\n",
      "Applying average reference.\n",
      "Applying a custom EEG reference.\n"
     ]
    }
   ],
   "source": [
    "# use the average of all channels as reference\n",
    "eeg_avg_ref = eeg_filtered.copy().set_eeg_reference(ref_channels='average')\n",
    "#eeg_avg_ref.plot()"
   ]
  },
  {
   "cell_type": "markdown",
   "metadata": {},
   "source": [
    "### Remove Non-Brain Electrodes"
   ]
  },
  {
   "cell_type": "code",
   "execution_count": 14,
   "metadata": {
    "ExecuteTime": {
     "end_time": "2022-02-07T18:46:07.794817Z",
     "start_time": "2022-02-07T18:46:07.662494Z"
    }
   },
   "outputs": [],
   "source": [
    "non_brain_el = ['E127', 'E126', 'E17', 'E21', 'E14', 'E25', 'E8', 'E128', 'E125', 'E43', 'E120', 'E48', \n",
    "                'E119', 'E49', 'E113', 'E81', 'E73', 'E88', 'E68', 'E94', 'E63', 'E99', 'E56', 'E107' ]\n",
    "\n",
    "#only add non-brain channels if not already part of noisy channels\n",
    "for e in non_brain_el: \n",
    "    if e not in eeg_avg_ref.info['bads']:\n",
    "        eeg_avg_ref.info['bads'].append(e)\n",
    "\n",
    "#eeg_avg_ref.info['bads']\n",
    "eeg_brainonly= eeg_avg_ref.copy()"
   ]
  },
  {
   "cell_type": "markdown",
   "metadata": {},
   "source": [
    "## Let's visualize the PSD"
   ]
  },
  {
   "cell_type": "code",
   "execution_count": 19,
   "metadata": {
    "ExecuteTime": {
     "end_time": "2022-02-07T19:07:17.643560Z",
     "start_time": "2022-02-07T19:06:55.398568Z"
    },
    "scrolled": true
   },
   "outputs": [
    {
     "name": "stdout",
     "output_type": "stream",
     "text": [
      "Effective window size : 2.048 (s)\n"
     ]
    }
   ],
   "source": [
    "#fig = eeg_brainonly.plot_psd(fmax = 30)\n",
    "fig = eeg_brainonly.plot_psd(fmin=8,fmax = 12,picks=['E62','E67','E71','E72','E75','E76','E77']) #to plot the peak for one electrode only\n",
    "fig.savefig('./Figures/{}_{}_{}_PSD.jpg'.format(ID,session,task))"
   ]
  },
  {
   "cell_type": "markdown",
   "metadata": {},
   "source": [
    "### Save image with removed channels"
   ]
  },
  {
   "cell_type": "code",
   "execution_count": 16,
   "metadata": {
    "ExecuteTime": {
     "end_time": "2022-02-07T18:47:11.488434Z",
     "start_time": "2022-02-07T18:47:11.380871Z"
    }
   },
   "outputs": [],
   "source": [
    "eeg_brainonly.plot_sensors(ch_type='eeg')\n",
    "plt.savefig('{}_{}_{}_badchannels.jpg'.format(ID,session,task))\n",
    "plt.close()"
   ]
  },
  {
   "cell_type": "markdown",
   "metadata": {},
   "source": [
    "\n",
    "### Save the data in BIDS format"
   ]
  },
  {
   "cell_type": "code",
   "execution_count": 17,
   "metadata": {
    "ExecuteTime": {
     "end_time": "2022-02-07T18:47:11.670526Z",
     "start_time": "2022-02-07T18:47:11.490573Z"
    }
   },
   "outputs": [
    {
     "ename": "NameError",
     "evalue": "name 'BIDS_dir' is not defined",
     "output_type": "error",
     "traceback": [
      "\u001b[0;31m---------------------------------------------------------------------------\u001b[0m",
      "\u001b[0;31mNameError\u001b[0m                                 Traceback (most recent call last)",
      "\u001b[0;32m<ipython-input-17-98940d02b697>\u001b[0m in \u001b[0;36m<module>\u001b[0;34m\u001b[0m\n\u001b[0;32m----> 1\u001b[0;31m \u001b[0mout_dir\u001b[0m \u001b[0;34m=\u001b[0m \u001b[0mpathlib\u001b[0m\u001b[0;34m.\u001b[0m\u001b[0mPath\u001b[0m\u001b[0;34m(\u001b[0m\u001b[0mBIDS_dir\u001b[0m\u001b[0;34m,\u001b[0m\u001b[0;34m\"sub-{}/ses-{}/eeg/\"\u001b[0m\u001b[0;34m.\u001b[0m\u001b[0mformat\u001b[0m\u001b[0;34m(\u001b[0m\u001b[0mID\u001b[0m\u001b[0;34m,\u001b[0m\u001b[0msession\u001b[0m\u001b[0;34m)\u001b[0m\u001b[0;34m)\u001b[0m\u001b[0;34m\u001b[0m\u001b[0;34m\u001b[0m\u001b[0m\n\u001b[0m\u001b[1;32m      2\u001b[0m \u001b[0;34m\u001b[0m\u001b[0m\n\u001b[1;32m      3\u001b[0m \u001b[0;32mif\u001b[0m \u001b[0;32mnot\u001b[0m \u001b[0mos\u001b[0m\u001b[0;34m.\u001b[0m\u001b[0mpath\u001b[0m\u001b[0;34m.\u001b[0m\u001b[0mexists\u001b[0m\u001b[0;34m(\u001b[0m\u001b[0mout_dir\u001b[0m\u001b[0;34m)\u001b[0m\u001b[0;34m:\u001b[0m\u001b[0;34m\u001b[0m\u001b[0;34m\u001b[0m\u001b[0m\n\u001b[1;32m      4\u001b[0m     \u001b[0mos\u001b[0m\u001b[0;34m.\u001b[0m\u001b[0mmakedirs\u001b[0m\u001b[0;34m(\u001b[0m\u001b[0mout_dir\u001b[0m\u001b[0;34m)\u001b[0m\u001b[0;34m\u001b[0m\u001b[0;34m\u001b[0m\u001b[0m\n\u001b[1;32m      5\u001b[0m \u001b[0;34m\u001b[0m\u001b[0m\n",
      "\u001b[0;31mNameError\u001b[0m: name 'BIDS_dir' is not defined"
     ]
    }
   ],
   "source": [
    "out_dir = pathlib.Path(BIDS_dir,\"sub-{}/ses-{}/eeg/\".format(ID,session))\n",
    "\n",
    "if not os.path.exists(out_dir):\n",
    "    os.makedirs(out_dir)\n",
    "    \n",
    "out_path = pathlib.Path(out_dir, \"sub-{}_ses-{}_task-{}.fif\".format(ID,session,task))"
   ]
  },
  {
   "cell_type": "code",
   "execution_count": null,
   "metadata": {
    "ExecuteTime": {
     "end_time": "2022-02-07T18:47:11.673313Z",
     "start_time": "2022-02-07T18:46:00.010Z"
    }
   },
   "outputs": [],
   "source": [
    "eeg_brainonly.save(out_path,overwrite=True)"
   ]
  },
  {
   "cell_type": "markdown",
   "metadata": {},
   "source": [
    "# Epoch the data and remove noisy epochs"
   ]
  },
  {
   "cell_type": "code",
   "execution_count": null,
   "metadata": {
    "ExecuteTime": {
     "end_time": "2022-02-07T18:47:11.675394Z",
     "start_time": "2022-02-07T18:46:00.043Z"
    }
   },
   "outputs": [],
   "source": [
    "epochs = mne.make_fixed_length_epochs(eeg_brainonly, duration = 10,overlap=0, preload=False)"
   ]
  },
  {
   "cell_type": "code",
   "execution_count": null,
   "metadata": {
    "ExecuteTime": {
     "end_time": "2022-02-07T18:47:11.677620Z",
     "start_time": "2022-02-07T18:46:00.046Z"
    }
   },
   "outputs": [],
   "source": [
    "epochs.plot()"
   ]
  },
  {
   "cell_type": "code",
   "execution_count": null,
   "metadata": {
    "ExecuteTime": {
     "end_time": "2022-02-07T18:47:11.679427Z",
     "start_time": "2022-02-07T18:46:00.048Z"
    }
   },
   "outputs": [],
   "source": [
    "#STOP"
   ]
  },
  {
   "cell_type": "code",
   "execution_count": null,
   "metadata": {
    "ExecuteTime": {
     "end_time": "2022-02-07T18:47:11.681512Z",
     "start_time": "2022-02-07T18:46:00.049Z"
    }
   },
   "outputs": [],
   "source": [
    "epochs.save(pathlib.Path(out_dir) / 'epochs_{}_{}_{}.fif'.format(ID,session,task), \n",
    "            overwrite=True)"
   ]
  },
  {
   "cell_type": "code",
   "execution_count": null,
   "metadata": {},
   "outputs": [],
   "source": []
  }
 ],
 "metadata": {
  "kernelspec": {
   "display_name": "Python 3",
   "language": "python",
   "name": "python3"
  },
  "language_info": {
   "codemirror_mode": {
    "name": "ipython",
    "version": 3
   },
   "file_extension": ".py",
   "mimetype": "text/x-python",
   "name": "python",
   "nbconvert_exporter": "python",
   "pygments_lexer": "ipython3",
   "version": "3.7.9"
  },
  "toc": {
   "base_numbering": 1,
   "nav_menu": {},
   "number_sections": true,
   "sideBar": true,
   "skip_h1_title": false,
   "title_cell": "Table of Contents",
   "title_sidebar": "Contents",
   "toc_cell": false,
   "toc_position": {},
   "toc_section_display": true,
   "toc_window_display": false
  }
 },
 "nbformat": 4,
 "nbformat_minor": 4
}
